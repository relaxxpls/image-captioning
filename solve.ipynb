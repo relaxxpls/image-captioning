{
 "cells": [
  {
   "cell_type": "markdown",
   "metadata": {},
   "source": [
    "# Image Captioning using CNNs & LSTMs"
   ]
  },
  {
   "cell_type": "markdown",
   "metadata": {},
   "source": [
    "## Setup notebook\n"
   ]
  },
  {
   "cell_type": "code",
   "execution_count": 2,
   "metadata": {},
   "outputs": [],
   "source": [
    "import math\n",
    "from pathlib import Path\n",
    "\n",
    "import matplotlib.pyplot as plt\n",
    "import torch\n",
    "import torch.nn as nn\n",
    "import torch.optim as optim\n",
    "from torch.utils.data import DataLoader, random_split\n",
    "from torchvision import datasets, transforms\n",
    "\n",
    "from models import EncoderCNN, DecoderRNN\n",
    "from utils import train, test\n"
   ]
  },
  {
   "cell_type": "code",
   "execution_count": 3,
   "metadata": {},
   "outputs": [
    {
     "name": "stdout",
     "output_type": "stream",
     "text": [
      "1.9.0+cu111\n",
      "cuda:0\n"
     ]
    }
   ],
   "source": [
    "torch.manual_seed(0)\n",
    "device = torch.device(\"cuda:0\" if torch.cuda.is_available() else \"cpu\")\n",
    "print(torch.__version__)\n",
    "print(device)\n"
   ]
  },
  {
   "cell_type": "markdown",
   "metadata": {},
   "source": [
    "## COCO Dataset\n"
   ]
  },
  {
   "cell_type": "markdown",
   "metadata": {},
   "source": [
    "### Download & extract the dataset\n"
   ]
  },
  {
   "cell_type": "code",
   "execution_count": 4,
   "metadata": {},
   "outputs": [
    {
     "name": "stdout",
     "output_type": "stream",
     "text": [
      "Downloading test2014.zip...\n"
     ]
    }
   ],
   "source": [
    "DATASET_URLS = [\n",
    "    \"http://images.cocodataset.org/zips/train2014.zip\",\n",
    "    \"http://images.cocodataset.org/zips/val2014.zip\",\n",
    "    \"http://images.cocodataset.org/zips/test2014.zip\"\n",
    "]\n",
    "DATASET_DIR = Path(\"./datasets/coco\")\n",
    "MODEL_DIR = Path(\"./checkpoints/coco\")\n",
    "RESULTS_DIR = Path(\"./results/coco\")\n",
    "\n",
    "DATASET_DIR.mkdir(parents=True, exist_ok=True)\n",
    "MODEL_DIR.mkdir(parents=True, exist_ok=True)\n",
    "RESULTS_DIR.mkdir(parents=True, exist_ok=True)\n",
    "\n",
    "for url in DATASET_URLS:\n",
    "    name, stem = Path(url).name, Path(url).stem\n",
    "    if (DATASET_DIR / stem).exists():\n",
    "        continue\n",
    "\n",
    "    !wget -P {DATASET_DIR} {url}\n",
    "    !tar -xf {DATASET_DIR / name} --directory {DATASET_DIR}\n"
   ]
  },
  {
   "cell_type": "code",
   "execution_count": null,
   "metadata": {},
   "outputs": [],
   "source": [
    "BATCH_SIZE = 32\n",
    "EPOCHS = 1\n",
    "HIDDEN_SIZE = 512  # Num of features in hidden state of the RNN decoder\n",
    "EMBED_SIZE = 512  # dimensionality of word embeddings\n",
    "vocab_threshold = 6  # minimum word count threshold\n",
    "vocab_from_file = True  # if True, load existing vocab file\n"
   ]
  },
  {
   "cell_type": "markdown",
   "metadata": {},
   "source": [
    "### Setup training and testing sets\n",
    "\n",
    "* We will normalize the data using the mean and stddev of the ImageNet dataset\n"
   ]
  },
  {
   "cell_type": "code",
   "execution_count": null,
   "metadata": {},
   "outputs": [],
   "source": [
    "transform = transforms.Compose(\n",
    "    [\n",
    "        transforms.Resize(256),\n",
    "        transforms.CenterCrop(224),\n",
    "        transforms.ToTensor(),\n",
    "        transforms.Normalize(\n",
    "            (0.485, 0.456, 0.406),\n",
    "            (0.229, 0.224, 0.225),\n",
    "        ),\n",
    "    ]\n",
    ")\n",
    "\n",
    "\n",
    "train_dataset = datasets.ImageFolder(MIAS_DATASET_DIR, transform)\n",
    "train_dataset = datasets.ImageFolder(MIAS_DATASET_DIR, transform)\n",
    "\n",
    "# ? Create dataset loaders\n",
    "train_loader = DataLoader(train_dataset, batch_size=BATCH_SIZE, shuffle=True)\n",
    "test_loader = DataLoader(test_dataset, batch_size=BATCH_SIZE, shuffle=False)\n",
    "\n",
    "# Build data loader.\n",
    "data_loader = get_loader(\n",
    "    transform=transform,\n",
    "    mode=\"train\",\n",
    "    batch_size=batch_size,\n",
    "    vocab_threshold=vocab_threshold,\n",
    "    vocab_from_file=vocab_from_file,\n",
    ")\n",
    "\n",
    "# The size of the vocabulary.\n",
    "vocab_size = len(data_loader.dataset.vocab)\n",
    "\n",
    "\n",
    "\n",
    "# Set the total number of training steps per epoch.\n",
    "# total_step = math.ceil(\n",
    "#     len(data_loader.dataset.caption_lengths) / data_loader.batch_sampler.batch_size\n",
    "# )\n"
   ]
  },
  {
   "cell_type": "markdown",
   "metadata": {},
   "source": [
    "## Build & Train the Encoder-Decoder Model\n"
   ]
  },
  {
   "cell_type": "code",
   "execution_count": null,
   "metadata": {},
   "outputs": [],
   "source": [
    "encoder = EncoderCNN(embed_size).to(device)\n",
    "decoder = DecoderRNN(embed_size, hidden_size, vocab_size).to(device)\n",
    "\n",
    "params = (\n",
    "    list(decoder.parameters())\n",
    "    + list(encoder.embed.parameters())\n",
    "    + list(encoder.bn.parameters())\n",
    ")\n",
    "optimizer = optim.Adam(params, lr=0.001, betas=(0.9, 0.999), eps=1e-08)\n",
    "\n",
    "criterion = nn.CrossEntropyLoss().to(device)\n",
    "\n",
    "train_losses = train(\n",
    "    model,\n",
    "    train_loader,\n",
    "    optimizer=optimizer,\n",
    "    criterion=criterion,\n",
    "    epochs=100,\n",
    "    device=device,\n",
    "    save_dir=MODEL_DIR,\n",
    ")\n"
   ]
  }
 ],
 "metadata": {
  "interpreter": {
   "hash": "63fd5069d213b44bf678585dea6b12cceca9941eaf7f819626cde1f2670de90d"
  },
  "kernelspec": {
   "display_name": "Python 3.9.6 64-bit",
   "language": "python",
   "name": "python3"
  },
  "language_info": {
   "codemirror_mode": {
    "name": "ipython",
    "version": 3
   },
   "file_extension": ".py",
   "mimetype": "text/x-python",
   "name": "python",
   "nbconvert_exporter": "python",
   "pygments_lexer": "ipython3",
   "version": "3.9.6"
  },
  "orig_nbformat": 4
 },
 "nbformat": 4,
 "nbformat_minor": 2
}
